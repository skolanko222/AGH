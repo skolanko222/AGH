{
  "cells": [
    {
      "cell_type": "markdown",
      "metadata": {
        "id": "1PEa0EDVq56L"
      },
      "source": [
        "___________________________________________\n",
        "# PitE winter 2022\n",
        "## Lab2 - Python"
      ]
    },
    {
      "cell_type": "markdown",
      "metadata": {
        "id": "Gmi-6WS4pjQd"
      },
      "source": [
        "### Variables"
      ]
    },
    {
      "cell_type": "code",
      "execution_count": 3,
      "metadata": {
        "id": "oof4G-jSpSEr"
      },
      "outputs": [],
      "source": [
        "var = 20           # Integer data\n",
        "var1 = 20.0        # Float data\n",
        "var2 = False       # Boolean data\n",
        "var3 = -20         # Integer data"
      ]
    },
    {
      "cell_type": "code",
      "execution_count": 4,
      "metadata": {
        "colab": {
          "base_uri": "https://localhost:8080/"
        },
        "id": "3NspXcDqpiIL",
        "outputId": "533d52ee-7839-4ee9-a3b1-52a093d9163a"
      },
      "outputs": [
        {
          "name": "stdout",
          "output_type": "stream",
          "text": [
            "20\n",
            "20.0\n",
            "False\n",
            "-20\n"
          ]
        }
      ],
      "source": [
        "# Printing the variables \n",
        "print(var)\n",
        "print(var1)\n",
        "print(var2)\n",
        "print(var3)"
      ]
    },
    {
      "cell_type": "code",
      "execution_count": 5,
      "metadata": {
        "colab": {
          "base_uri": "https://localhost:8080/"
        },
        "id": "ZXfkGP7hpsva",
        "outputId": "2c05b537-b88f-42fe-cb00-73e3df466c4f"
      },
      "outputs": [
        {
          "name": "stdout",
          "output_type": "stream",
          "text": [
            "<class 'int'>\n",
            "<class 'float'>\n",
            "<class 'bool'>\n",
            "<class 'int'>\n"
          ]
        }
      ],
      "source": [
        "print(type(var))\n",
        "print(type(var1))\n",
        "print(type(var2))\n",
        "print(type(var3))"
      ]
    },
    {
      "cell_type": "code",
      "execution_count": 6,
      "metadata": {
        "id": "g0t4vLvNpvWZ"
      },
      "outputs": [],
      "source": [
        "add = 10 + 5        # Addition\n",
        "sub = 10 - 5       # Subtraction\n",
        "mul = 10 * 5       # Multiplication\n",
        "div = 10 / 5       # Division\n",
        "exp = 10 ** 5      # Exponent\n",
        "floor = 13 // 5    # Floor division\n",
        "mod = 13 % 5       # Modulus operator"
      ]
    },
    {
      "cell_type": "code",
      "execution_count": 7,
      "metadata": {
        "colab": {
          "base_uri": "https://localhost:8080/"
        },
        "id": "1KDjuIz0pxDJ",
        "outputId": "53eced40-4f59-4992-b140-7b3eec550f1c"
      },
      "outputs": [
        {
          "name": "stdout",
          "output_type": "stream",
          "text": [
            "15\n",
            "5\n",
            "50\n",
            "2.0\n",
            "100000\n",
            "2\n",
            "3\n"
          ]
        }
      ],
      "source": [
        "print(add)\n",
        "print(sub)\n",
        "print(mul)\n",
        "print(div)\n",
        "print(exp)\n",
        "print(floor)\n",
        "print(mod)"
      ]
    },
    {
      "cell_type": "markdown",
      "metadata": {
        "id": "iA4gyl9gqjTJ"
      },
      "source": [
        "### Ex. 1\n",
        "\n",
        "Find how to convert int to float and vice versa."
      ]
    },
    {
      "cell_type": "code",
      "execution_count": 11,
      "metadata": {
        "colab": {
          "base_uri": "https://localhost:8080/"
        },
        "id": "-mYUkV6Tqlvn",
        "outputId": "047185e9-faf5-4fa2-d66b-30e2740a7ed2"
      },
      "outputs": [
        {
          "name": "stdout",
          "output_type": "stream",
          "text": [
            "1\n",
            "1.0\n"
          ]
        }
      ],
      "source": [
        "intVal = int(1.7)\n",
        "print(intVal)\n",
        "floatVal = float(intVal)\n",
        "print(floatVal)"
      ]
    },
    {
      "cell_type": "markdown",
      "metadata": {
        "id": "4XMT8IUpraHL"
      },
      "source": [
        "### Lists and Dicts"
      ]
    },
    {
      "cell_type": "code",
      "execution_count": 12,
      "metadata": {
        "colab": {
          "base_uri": "https://localhost:8080/"
        },
        "id": "I99LCQf0qr9_",
        "outputId": "b34dbd69-69d7-42ff-eba5-4e69b020e6ab"
      },
      "outputs": [
        {
          "data": {
            "text/plain": [
              "[1, 2, 3, 4, 5]"
            ]
          },
          "execution_count": 12,
          "metadata": {},
          "output_type": "execute_result"
        }
      ],
      "source": [
        "num = [ ]\n",
        "num = [ 1, 2, 3, 4, 5]\n",
        "num"
      ]
    },
    {
      "cell_type": "code",
      "execution_count": 13,
      "metadata": {
        "id": "_YaLb_cGrd4t"
      },
      "outputs": [],
      "source": [
        "num = [1, 2, 3, \"Tanu\", 4.0, 4/2]"
      ]
    },
    {
      "cell_type": "code",
      "execution_count": 14,
      "metadata": {
        "colab": {
          "base_uri": "https://localhost:8080/"
        },
        "id": "0eHBGMGasIpJ",
        "outputId": "d8fc88ef-6484-4d38-fcb8-b267bdc7ca1b"
      },
      "outputs": [
        {
          "data": {
            "text/plain": [
              "1"
            ]
          },
          "execution_count": 14,
          "metadata": {},
          "output_type": "execute_result"
        }
      ],
      "source": [
        "num[0]"
      ]
    },
    {
      "cell_type": "code",
      "execution_count": 15,
      "metadata": {
        "id": "EG7crjf-sIkQ"
      },
      "outputs": [],
      "source": [
        "cars = [\"Mercedes\", \"BMW\", \"Audi\"]\n"
      ]
    },
    {
      "cell_type": "code",
      "execution_count": 16,
      "metadata": {
        "id": "GW-LEs6hsIiS"
      },
      "outputs": [],
      "source": [
        "bikes = [\"Honda\", \"Yamaha\", \"Aprilla\"]\n"
      ]
    },
    {
      "cell_type": "code",
      "execution_count": 17,
      "metadata": {
        "colab": {
          "base_uri": "https://localhost:8080/"
        },
        "id": "YiaDQtuOsIge",
        "outputId": "4db5af51-a2a0-472e-fd0e-8d5428f7e228"
      },
      "outputs": [
        {
          "data": {
            "text/plain": [
              "['Mercedes', 'BMW', 'Audi', 'Honda', 'Yamaha', 'Aprilla']"
            ]
          },
          "execution_count": 17,
          "metadata": {},
          "output_type": "execute_result"
        }
      ],
      "source": [
        "cars_bikes = cars + bikes\n",
        "cars_bikes\n"
      ]
    },
    {
      "cell_type": "code",
      "execution_count": 18,
      "metadata": {
        "colab": {
          "base_uri": "https://localhost:8080/"
        },
        "id": "s70iWfLasdqu",
        "outputId": "d8e8768c-9ba5-4516-cda8-23dbd8e2bb18"
      },
      "outputs": [
        {
          "name": "stdout",
          "output_type": "stream",
          "text": [
            "15\n"
          ]
        }
      ],
      "source": [
        "num = [1, 2, 3, 4, 5]\n",
        "sum = 0\n",
        "for i in num:\n",
        "  sum = sum + i\n",
        "print(sum) # 15"
      ]
    },
    {
      "cell_type": "code",
      "execution_count": 19,
      "metadata": {
        "colab": {
          "base_uri": "https://localhost:8080/"
        },
        "id": "mUc2vt-gsfI5",
        "outputId": "157d9ec5-c258-47df-d1a4-efc1d5c085ec"
      },
      "outputs": [
        {
          "name": "stdout",
          "output_type": "stream",
          "text": [
            "True\n"
          ]
        }
      ],
      "source": [
        "num = [1, 2, 3, 4, 5]\n",
        "if 1 in num:\n",
        "  print(\"True\")\n",
        "else:\n",
        "  print(\"False\")"
      ]
    },
    {
      "cell_type": "code",
      "execution_count": 20,
      "metadata": {
        "colab": {
          "base_uri": "https://localhost:8080/"
        },
        "id": "E57cpUEDsqTS",
        "outputId": "2b3c4dd1-9a3b-48f6-edc9-836a24019144"
      },
      "outputs": [
        {
          "data": {
            "text/plain": [
              "['Tanu', 'Nanda', 'Prabi', 'Prabhu']"
            ]
          },
          "execution_count": 20,
          "metadata": {},
          "output_type": "execute_result"
        }
      ],
      "source": [
        "name = ['Tanu', 'Nanda']\n",
        "name.append(\"Prabhu\")\n",
        "name.insert(2, \"Prabi\")\n",
        "name"
      ]
    },
    {
      "cell_type": "code",
      "execution_count": 21,
      "metadata": {
        "colab": {
          "base_uri": "https://localhost:8080/"
        },
        "id": "72AzX7cystWR",
        "outputId": "72e0e16a-64f7-476b-ccfa-9f50d2a115eb"
      },
      "outputs": [
        {
          "data": {
            "text/plain": [
              "['Tanu', 'Prabi', 'Prabhu']"
            ]
          },
          "execution_count": 21,
          "metadata": {},
          "output_type": "execute_result"
        }
      ],
      "source": [
        "name.remove(\"Nanda\")\n",
        "name"
      ]
    },
    {
      "cell_type": "code",
      "execution_count": 22,
      "metadata": {
        "colab": {
          "base_uri": "https://localhost:8080/"
        },
        "id": "lAqkhpQfs1xo",
        "outputId": "7b35fc3d-a54e-4cc3-e1db-29f86bc8ef42"
      },
      "outputs": [
        {
          "data": {
            "text/plain": [
              "[1, 2, 3, 4, 5]"
            ]
          },
          "execution_count": 22,
          "metadata": {},
          "output_type": "execute_result"
        }
      ],
      "source": [
        "num.sort()\n",
        "num"
      ]
    },
    {
      "cell_type": "code",
      "execution_count": 23,
      "metadata": {
        "colab": {
          "base_uri": "https://localhost:8080/"
        },
        "id": "J1xGQQtGs28x",
        "outputId": "7f2cf3df-1602-4e97-95bd-85e215929070"
      },
      "outputs": [
        {
          "data": {
            "text/plain": [
              "['a', 'b', 'c', 'd']"
            ]
          },
          "execution_count": 23,
          "metadata": {},
          "output_type": "execute_result"
        }
      ],
      "source": [
        "char = ['a', 'b', 'c', 'd']\n",
        "char\n",
        "['a', 'b', 'c', 'd']\n",
        "char[1:-1]         ## ['b', 'c']\n",
        "char"
      ]
    },
    {
      "cell_type": "code",
      "execution_count": 24,
      "metadata": {
        "colab": {
          "base_uri": "https://localhost:8080/"
        },
        "id": "DG9CZ8Nys7Zg",
        "outputId": "95b53d08-7529-4bbc-bd3e-25afd8a99197"
      },
      "outputs": [
        {
          "data": {
            "text/plain": [
              "['z', 'c', 'd']"
            ]
          },
          "execution_count": 24,
          "metadata": {},
          "output_type": "execute_result"
        }
      ],
      "source": [
        "char[0:2] = 'z'    ## replace ['a', 'b'] with ['z']\n",
        "char               ## ['z', 'c', 'd']|"
      ]
    },
    {
      "cell_type": "code",
      "execution_count": 25,
      "metadata": {
        "colab": {
          "base_uri": "https://localhost:8080/"
        },
        "id": "3EyQaEHytXIX",
        "outputId": "0df18e18-4cca-488f-dd13-81feb118b455"
      },
      "outputs": [
        {
          "name": "stdout",
          "output_type": "stream",
          "text": [
            "{'Name': 'Tanu', 'Sex': 'Male', 'Age': 23}\n"
          ]
        }
      ],
      "source": [
        "dictionary = {}\n",
        "dictionary = {'Name': 'Tanu', 'Sex': 'Male', 'Age': 23}\n",
        "print(dictionary)"
      ]
    },
    {
      "cell_type": "code",
      "execution_count": 26,
      "metadata": {
        "colab": {
          "base_uri": "https://localhost:8080/"
        },
        "id": "ZGuJbGK-tXGH",
        "outputId": "9730f884-9064-464c-e5c1-4e8ada4977e3"
      },
      "outputs": [
        {
          "name": "stdout",
          "output_type": "stream",
          "text": [
            "Tanu\n"
          ]
        }
      ],
      "source": [
        "print(dictionary['Name'])"
      ]
    },
    {
      "cell_type": "code",
      "execution_count": 27,
      "metadata": {
        "colab": {
          "base_uri": "https://localhost:8080/"
        },
        "id": "rdgtsqBwtXDf",
        "outputId": "2f9c775b-3d0d-4a58-c6b3-00208afcb57d"
      },
      "outputs": [
        {
          "name": "stdout",
          "output_type": "stream",
          "text": [
            "{'Name': 'Tanu', 'Sex': 'Male', 'Age': 23, 'Height': 5.8, 'Occupation': 'Student'}\n"
          ]
        }
      ],
      "source": [
        "dictionary = {'Name': 'Tanu', 'Sex': 'Male', 'Age': 23, 'Height': 5.8, 'Occupation': 'Student'}\n",
        "print(dictionary)"
      ]
    },
    {
      "cell_type": "code",
      "execution_count": 28,
      "metadata": {
        "colab": {
          "base_uri": "https://localhost:8080/"
        },
        "id": "KZbEv8hctW9-",
        "outputId": "457b70f7-c912-429d-fe1c-139f4b849769"
      },
      "outputs": [
        {
          "name": "stdout",
          "output_type": "stream",
          "text": [
            "{'Sex': 'Male', 'Age': 23, 'Height': 5.8, 'Occupation': 'Student'}\n"
          ]
        }
      ],
      "source": [
        "del dictionary['Name']\n",
        "print(dictionary)"
      ]
    },
    {
      "cell_type": "code",
      "execution_count": 29,
      "metadata": {
        "colab": {
          "base_uri": "https://localhost:8080/"
        },
        "id": "PXi9B_GHtW2G",
        "outputId": "d9b9e642-72d0-4d33-d4c8-f17092de8df5"
      },
      "outputs": [
        {
          "name": "stdout",
          "output_type": "stream",
          "text": [
            "Male\n"
          ]
        }
      ],
      "source": [
        "# Popping the value\n",
        "\n",
        "print(dictionary.pop('Sex'))"
      ]
    },
    {
      "cell_type": "code",
      "execution_count": 30,
      "metadata": {
        "colab": {
          "base_uri": "https://localhost:8080/"
        },
        "id": "jFmZvoI5AVXI",
        "outputId": "a40da697-bd7a-4b8d-cc13-ea463b81685a"
      },
      "outputs": [
        {
          "name": "stdout",
          "output_type": "stream",
          "text": [
            "{}\n"
          ]
        }
      ],
      "source": [
        "dictionary.clear()\n",
        "print(dictionary)"
      ]
    },
    {
      "cell_type": "code",
      "execution_count": 31,
      "metadata": {
        "colab": {
          "base_uri": "https://localhost:8080/"
        },
        "id": "n7wDG0jAAVQz",
        "outputId": "451480a0-1a88-4a64-89ef-81072c742fe7"
      },
      "outputs": [
        {
          "name": "stdout",
          "output_type": "stream",
          "text": [
            "{'Name': 'Tanu', 'Sex': 'Male', 'Age': 23, 'Height': 5.8, 'Occupation': 'Student'}\n"
          ]
        }
      ],
      "source": [
        "dictionary = {'Name': 'Tanu', 'Sex': 'Male', 'Age': 23, 'Height': 5.8, 'Occupation': 'Student'}\n",
        "print(dictionary)"
      ]
    },
    {
      "cell_type": "code",
      "execution_count": 32,
      "metadata": {
        "colab": {
          "base_uri": "https://localhost:8080/"
        },
        "id": "ibomIMYEAy6l",
        "outputId": "97be441d-18b5-48ba-a013-48ec3afce538"
      },
      "outputs": [
        {
          "name": "stdout",
          "output_type": "stream",
          "text": [
            "Tanu\n",
            "Male\n",
            "23\n",
            "5.8\n",
            "Student\n"
          ]
        }
      ],
      "source": [
        "for i in dictionary:\n",
        "    print(dictionary[i])"
      ]
    },
    {
      "cell_type": "markdown",
      "metadata": {
        "id": "wwHfcc9MtAvp"
      },
      "source": [
        "### Ex. 2\n",
        "\n",
        "Check and describe result of following methods:\n",
        "\n",
        "```\n",
        "All - returns if all elements in container none of elements in container is False\n",
        "Any - returns true, if any element in container returns True\n",
        "Len - returns length of container\n",
        "Sorted - returns sorted container\n",
        "Copy - returns copy of container, equal to listName[:]\n",
        "Keys - returns iterable object containing keys from dictionary\n",
        "Values - returns iterable object containing values from dictionary\n",
        "```\n",
        "\n"
      ]
    },
    {
      "cell_type": "code",
      "execution_count": 52,
      "metadata": {
        "colab": {
          "base_uri": "https://localhost:8080/"
        },
        "id": "RJSK0pzMYZSK",
        "outputId": "4d15c326-3eac-4521-8054-9a87a81464ee"
      },
      "outputs": [
        {
          "name": "stdout",
          "output_type": "stream",
          "text": [
            "True False True\n"
          ]
        }
      ],
      "source": [
        "# all\n",
        "l1 = [1,2,] # True\n",
        "l2 = [45,0] # False\n",
        "l3 = []     # True\n",
        "print(all(l1), all(l2), all(l3))"
      ]
    },
    {
      "cell_type": "code",
      "execution_count": 53,
      "metadata": {
        "colab": {
          "base_uri": "https://localhost:8080/"
        },
        "id": "cq2U8mTCYz64",
        "outputId": "0762d68c-c91b-41fe-8465-e85da9b43d0c"
      },
      "outputs": [
        {
          "name": "stdout",
          "output_type": "stream",
          "text": [
            "True False\n"
          ]
        }
      ],
      "source": [
        "# any\n",
        "l1 = (0, False, 21) # True\n",
        "l2 = []             # False\n",
        "print(any(l1), any(l2))"
      ]
    },
    {
      "cell_type": "code",
      "execution_count": 56,
      "metadata": {
        "colab": {
          "base_uri": "https://localhost:8080/"
        },
        "id": "uryEfWOuZA5f",
        "outputId": "274bab4b-b881-4e39-dd9d-abf0d8e41980"
      },
      "outputs": [
        {
          "data": {
            "text/plain": [
              "6"
            ]
          },
          "execution_count": 56,
          "metadata": {},
          "output_type": "execute_result"
        }
      ],
      "source": [
        "# len\n",
        "pythonString = 'python'\n",
        "len(pythonString) # 6"
      ]
    },
    {
      "cell_type": "code",
      "execution_count": 58,
      "metadata": {
        "colab": {
          "base_uri": "https://localhost:8080/"
        },
        "id": "HTfNw01wZUWt",
        "outputId": "3b240fce-71fb-495c-8713-6e4113b2f21c"
      },
      "outputs": [
        {
          "name": "stdout",
          "output_type": "stream",
          "text": [
            "[23, 1, 4, -1, 0]\n",
            "[-1, 0, 1, 4, 23]\n"
          ]
        }
      ],
      "source": [
        "# sorted\n",
        "unsortedList = [23,1,4,-1,0]\n",
        "sortedList = sorted(unsortedList)\n",
        "print(unsortedList, sortedList, sep='\\n')"
      ]
    },
    {
      "cell_type": "code",
      "execution_count": 50,
      "metadata": {
        "id": "VK2bgJgbXiX1"
      },
      "outputs": [],
      "source": [
        "# copy\n",
        "list1 = [1,2,3]\n",
        "list2 = list1\n",
        "list3 = list1.copy()\n",
        "list2.append(123)\n",
        "list3.append(456)\n",
        "print(list1, list2, list3, sep='\\n')"
      ]
    },
    {
      "cell_type": "code",
      "execution_count": 61,
      "metadata": {
        "colab": {
          "base_uri": "https://localhost:8080/"
        },
        "id": "6r-DUFkhZjzz",
        "outputId": "82f04c91-700d-41d8-d5cc-60aa028969a9"
      },
      "outputs": [
        {
          "name": "stdout",
          "output_type": "stream",
          "text": [
            "dict_keys(['filename', 'type'])\n",
            "dict_values(['main.py', 'python script file'])\n"
          ]
        }
      ],
      "source": [
        "# keys values\n",
        "dictionary = {'filename': 'main.py', 'type': 'python script file'}\n",
        "print(dictionary.keys(), dictionary.values(), sep='\\n')"
      ]
    },
    {
      "cell_type": "markdown",
      "metadata": {
        "id": "VW36wkpaBmkA"
      },
      "source": [
        "### Strings"
      ]
    },
    {
      "cell_type": "code",
      "execution_count": 33,
      "metadata": {
        "colab": {
          "base_uri": "https://localhost:8080/"
        },
        "id": "AVCMW1a4BmUJ",
        "outputId": "c0f2693a-c6e4-4d9c-a35c-aec5d5a87680"
      },
      "outputs": [
        {
          "name": "stdout",
          "output_type": "stream",
          "text": [
            "This is a python tutorial\n"
          ]
        }
      ],
      "source": [
        "string = \"This is a python tutorial\"\n",
        "print(string)"
      ]
    },
    {
      "cell_type": "code",
      "execution_count": 34,
      "metadata": {
        "colab": {
          "base_uri": "https://localhost:8080/"
        },
        "id": "nfiGHfCOBkN3",
        "outputId": "e6db2f74-3fc0-4126-ada7-ccb34284c7cd"
      },
      "outputs": [
        {
          "name": "stdout",
          "output_type": "stream",
          "text": [
            "<class 'str'>\n"
          ]
        }
      ],
      "source": [
        "print(type(string))\n"
      ]
    },
    {
      "cell_type": "code",
      "execution_count": 35,
      "metadata": {
        "colab": {
          "base_uri": "https://localhost:8080/"
        },
        "id": "HMg104NKCpBd",
        "outputId": "e1950b2a-61f9-41a0-83dd-1a31652d94e8"
      },
      "outputs": [
        {
          "name": "stdout",
          "output_type": "stream",
          "text": [
            "t\n"
          ]
        }
      ],
      "source": [
        "string = \"Python\"\n",
        "print(string[2])"
      ]
    },
    {
      "cell_type": "code",
      "execution_count": 37,
      "metadata": {
        "colab": {
          "base_uri": "https://localhost:8080/"
        },
        "id": "OoItZTS5Co_F",
        "outputId": "d41a3e7b-67d9-4466-c528-68134225ec36"
      },
      "outputs": [
        {
          "name": "stdout",
          "output_type": "stream",
          "text": [
            "Pyt\n"
          ]
        }
      ],
      "source": [
        "print(string[0:3])\n"
      ]
    },
    {
      "cell_type": "code",
      "execution_count": 38,
      "metadata": {
        "colab": {
          "base_uri": "https://localhost:8080/"
        },
        "id": "uyKig0KQCo8q",
        "outputId": "583b4813-00d5-462a-a268-4c17e61473e3"
      },
      "outputs": [
        {
          "name": "stdout",
          "output_type": "stream",
          "text": [
            "hon\n"
          ]
        }
      ],
      "source": [
        "print(string[3:])\n"
      ]
    },
    {
      "cell_type": "code",
      "execution_count": 39,
      "metadata": {
        "colab": {
          "base_uri": "https://localhost:8080/"
        },
        "id": "DGzE5rSOCo6E",
        "outputId": "0054e3a7-413b-4779-e4b4-275c6612999f"
      },
      "outputs": [
        {
          "name": "stdout",
          "output_type": "stream",
          "text": [
            "nohtyP\n"
          ]
        }
      ],
      "source": [
        "print(string[::-1])\n"
      ]
    },
    {
      "cell_type": "code",
      "execution_count": 40,
      "metadata": {
        "id": "oTonE66xEHD3"
      },
      "outputs": [],
      "source": [
        "string = \"Computer Programming\"\n",
        "list = string.split()\n"
      ]
    },
    {
      "cell_type": "markdown",
      "metadata": {
        "id": "QWu4rK8HDsLK"
      },
      "source": [
        "### Ex. 3\n",
        "\n",
        "Create list of characters using string \"String\". Then convert it to dictionery where value is number of occurances of each character. \n",
        "\n"
      ]
    },
    {
      "cell_type": "code",
      "execution_count": 45,
      "metadata": {
        "colab": {
          "base_uri": "https://localhost:8080/"
        },
        "id": "ueOWLjL1WAwR",
        "outputId": "b4b135ee-142b-438e-8611-7e488da0263c"
      },
      "outputs": [
        {
          "name": "stdout",
          "output_type": "stream",
          "text": [
            "{'S': 1, 't': 1, 'r': 1, 'i': 1, 'n': 1, 'g': 1}\n"
          ]
        }
      ],
      "source": [
        "chars = [char for char in 'String']\n",
        "d = {}\n",
        "for char in chars:\n",
        "  if char in d.keys():\n",
        "    d[char] += 1\n",
        "  else:\n",
        "    d[char] = 1\n",
        "\n",
        "print(d)"
      ]
    },
    {
      "cell_type": "markdown",
      "metadata": {
        "id": "_Y7d5riSENDV"
      },
      "source": [
        "### Ex. 4\n",
        "\n",
        "Check and describe outcome of following methods:\n",
        "\n",
        "```\n",
        "replace - replaces given substring with other given substring\n",
        "join - concatenates all string in container with given separator\n",
        "capitalize - changes first character of a string to uppercase and all other to lowercase.\n",
        "find - returns index to first appearence to substring\n",
        "strip - removes leading and trailing characters (space is default)\n",
        "```\n",
        "\n"
      ]
    },
    {
      "cell_type": "code",
      "execution_count": 64,
      "metadata": {
        "colab": {
          "base_uri": "https://localhost:8080/"
        },
        "id": "r_PmXYJ1asiT",
        "outputId": "fc436251-5416-475c-ce26-a115d634c2af"
      },
      "outputs": [
        {
          "name": "stdout",
          "output_type": "stream",
          "text": [
            "replaces given string with other given string\n",
            "replaces given substring with other given substring\n"
          ]
        }
      ],
      "source": [
        "# replace\n",
        "mainString = 'replaces given string with other given string'\n",
        "print(mainString, mainString.replace('string', 'substring'), sep='\\n')"
      ]
    },
    {
      "cell_type": "code",
      "execution_count": 65,
      "metadata": {
        "colab": {
          "base_uri": "https://localhost:8080/"
        },
        "id": "6rzeknXpbG2W",
        "outputId": "beab6504-c368-4a06-abab-61121848f899"
      },
      "outputs": [
        {
          "name": "stdout",
          "output_type": "stream",
          "text": [
            "['concatenates', 'all', 'strings', 'in', 'container', 'with', 'given', 'string']\n",
            "concatenates all strings in container with given string\n"
          ]
        }
      ],
      "source": [
        "# join\n",
        "words = ['concatenates', 'all', 'strings', 'in', 'container', 'with', 'given', 'string']\n",
        "sentance = ' '.join(words)\n",
        "print(words, sentance, sep='\\n')"
      ]
    },
    {
      "cell_type": "code",
      "execution_count": 66,
      "metadata": {
        "colab": {
          "base_uri": "https://localhost:8080/"
        },
        "id": "wfjP42MXbX-t",
        "outputId": "9ac14ed2-c716-4dfe-8240-cede43d9dde2"
      },
      "outputs": [
        {
          "name": "stdout",
          "output_type": "stream",
          "text": [
            "Changes first character of a string to uppercase and all other to lowercase\n"
          ]
        }
      ],
      "source": [
        "# capitalize\n",
        "sentance = 'changes first character of a string to uppercase and all other to lowercase'\n",
        "print(sentance.capitalize())"
      ]
    },
    {
      "cell_type": "code",
      "execution_count": 68,
      "metadata": {
        "colab": {
          "base_uri": "https://localhost:8080/"
        },
        "id": "O8FtMdobbhJ9",
        "outputId": "484edf7d-d135-4d20-9550-7ad1a8d6a690"
      },
      "outputs": [
        {
          "name": "stdout",
          "output_type": "stream",
          "text": [
            "index\n"
          ]
        }
      ],
      "source": [
        "# find\n",
        "sentence = 'returns index to first appearence to substring'\n",
        "print(sentence[sentence.find('index'):sentence.find('index')+len('index')])"
      ]
    },
    {
      "cell_type": "code",
      "execution_count": 76,
      "metadata": {
        "colab": {
          "base_uri": "https://localhost:8080/"
        },
        "id": "HXh5-RNMby11",
        "outputId": "d377f031-8016-4f4f-f400-58ddd35a4dd2"
      },
      "outputs": [
        {
          "name": "stdout",
          "output_type": "stream",
          "text": [
            "______removes leading and trailing characters (space is default)_____\n",
            "removes leading and trailing characters (space is default)\n"
          ]
        }
      ],
      "source": [
        "# strip\n",
        "sentance = '______removes leading and trailing characters (space is default)_____'\n",
        "print(f'{sentance}\\n{sentance.strip(\"_\")}')"
      ]
    },
    {
      "cell_type": "markdown",
      "metadata": {
        "id": "ocf-D_KMEXHq"
      },
      "source": [
        "### Tuples"
      ]
    },
    {
      "cell_type": "code",
      "execution_count": 77,
      "metadata": {
        "colab": {
          "base_uri": "https://localhost:8080/"
        },
        "id": "ojGA6P16Co3w",
        "outputId": "95cfa3da-e7c7-469d-b2a6-f6adc43480e6"
      },
      "outputs": [
        {
          "name": "stdout",
          "output_type": "stream",
          "text": [
            "(\"Today's\", 'Date', 'Is', 15, 'October', 2022)\n"
          ]
        }
      ],
      "source": [
        "tuple = (\"Today's\", \"Date\", \"Is\", 15, \"October\", 2022)\n",
        "print(tuple)"
      ]
    },
    {
      "cell_type": "code",
      "execution_count": 78,
      "metadata": {
        "colab": {
          "base_uri": "https://localhost:8080/"
        },
        "id": "-8Y-KgtzCo1M",
        "outputId": "bc283215-2241-4eb5-9bec-32d02d4618e0"
      },
      "outputs": [
        {
          "name": "stdout",
          "output_type": "stream",
          "text": [
            "<class 'tuple'>\n"
          ]
        }
      ],
      "source": [
        "print(type(tuple))"
      ]
    },
    {
      "cell_type": "code",
      "execution_count": 79,
      "metadata": {
        "colab": {
          "base_uri": "https://localhost:8080/"
        },
        "id": "ANG7JKJ7EszW",
        "outputId": "e47c91f2-e38d-40b0-ecca-1642aaef2dd2"
      },
      "outputs": [
        {
          "name": "stdout",
          "output_type": "stream",
          "text": [
            "Is\n"
          ]
        }
      ],
      "source": [
        "print(tuple[2])\n"
      ]
    },
    {
      "cell_type": "code",
      "execution_count": 81,
      "metadata": {
        "colab": {
          "base_uri": "https://localhost:8080/"
        },
        "id": "4e87wOMpEsuc",
        "outputId": "e7ac1f08-5322-433f-b51f-e57a7b1a268e"
      },
      "outputs": [
        {
          "name": "stdout",
          "output_type": "stream",
          "text": [
            "('And', 'its', 'Thursday')\n"
          ]
        }
      ],
      "source": [
        "tuple1 = (\"And\", \"its\", \"Thursday\")\n",
        "print(tuple1)"
      ]
    },
    {
      "cell_type": "code",
      "execution_count": 82,
      "metadata": {
        "colab": {
          "base_uri": "https://localhost:8080/"
        },
        "id": "hqYUXyKUEsry",
        "outputId": "85316c3a-bab0-471c-d648-07f2ea92428e"
      },
      "outputs": [
        {
          "name": "stdout",
          "output_type": "stream",
          "text": [
            "((\"Today's\", 'Date', 'Is', 15, 'October', 2022), ('And', 'its', 'Thursday'))\n"
          ]
        }
      ],
      "source": [
        "nest = tuple, tuple1\n",
        "print(nest)"
      ]
    },
    {
      "cell_type": "code",
      "execution_count": 83,
      "metadata": {
        "colab": {
          "base_uri": "https://localhost:8080/",
          "height": 182
        },
        "id": "9iN8J040EzeJ",
        "outputId": "e59d8e86-178d-4ec8-a304-83867afbf123"
      },
      "outputs": [
        {
          "ename": "TypeError",
          "evalue": "ignored",
          "output_type": "error",
          "traceback": [
            "\u001b[0;31m---------------------------------------------------------------------------\u001b[0m",
            "\u001b[0;31mTypeError\u001b[0m                                 Traceback (most recent call last)",
            "\u001b[0;32m<ipython-input-83-3008c5834e57>\u001b[0m in \u001b[0;36m<module>\u001b[0;34m\u001b[0m\n\u001b[0;32m----> 1\u001b[0;31m \u001b[0mtuple\u001b[0m\u001b[0;34m[\u001b[0m\u001b[0;36m0\u001b[0m\u001b[0;34m]\u001b[0m \u001b[0;34m=\u001b[0m \u001b[0;34m(\u001b[0m\u001b[0;34m\"Hi\"\u001b[0m\u001b[0;34m)\u001b[0m \u001b[0;31m# What's happened?\u001b[0m\u001b[0;34m\u001b[0m\u001b[0;34m\u001b[0m\u001b[0m\n\u001b[0m\u001b[1;32m      2\u001b[0m \u001b[0mprint\u001b[0m\u001b[0;34m(\u001b[0m\u001b[0mtuple\u001b[0m\u001b[0;34m)\u001b[0m\u001b[0;34m\u001b[0m\u001b[0;34m\u001b[0m\u001b[0m\n",
            "\u001b[0;31mTypeError\u001b[0m: 'tuple' object does not support item assignment"
          ]
        }
      ],
      "source": [
        "tuple[0] = (\"Hi\") # What's happened?\n",
        "print(tuple)"
      ]
    },
    {
      "cell_type": "code",
      "execution_count": 84,
      "metadata": {
        "colab": {
          "base_uri": "https://localhost:8080/"
        },
        "id": "1-T2QbHZE-M1",
        "outputId": "ddced4b9-aae8-490b-cf61-07e5d431be37"
      },
      "outputs": [
        {
          "name": "stdout",
          "output_type": "stream",
          "text": [
            "Today's\n",
            "Date\n",
            "Is\n",
            "15\n",
            "October\n",
            "2022\n"
          ]
        }
      ],
      "source": [
        "for i in tuple:\n",
        "    print(i)"
      ]
    },
    {
      "cell_type": "markdown",
      "metadata": {
        "id": "x4PsRQETGbVw"
      },
      "source": [
        "### Advanced Python Concepts\n",
        "\n",
        "In this tutorial, a few advanced concepts (not class related) are introduced. This includes\n",
        "\n",
        "- packing and unpacking\n",
        "- context manager\n",
        "- generators and decorators"
      ]
    },
    {
      "cell_type": "markdown",
      "metadata": {
        "id": "qINMOo00Gff_"
      },
      "source": [
        "### Packing and unpacking of values\n",
        "\n",
        "Using `*` or `**` we can pack/unpack list-like objects and dict-like objects, respectively.\n",
        "\n",
        "Let's play around..."
      ]
    },
    {
      "cell_type": "code",
      "execution_count": 85,
      "metadata": {
        "id": "y2qMFSR5Gd7Z"
      },
      "outputs": [],
      "source": [
        "def func(*args, **kwargs):\n",
        "    print(f'args are {args}')\n",
        "    print(f\"kwargs are {kwargs}\")"
      ]
    },
    {
      "cell_type": "code",
      "execution_count": 86,
      "metadata": {
        "colab": {
          "base_uri": "https://localhost:8080/"
        },
        "id": "ZWFBz13GGwPw",
        "outputId": "08661da5-7f46-42e6-de73-55de5ce836ce"
      },
      "outputs": [
        {
          "name": "stdout",
          "output_type": "stream",
          "text": [
            "args are (1, 23, 4)\n",
            "kwargs are {'vbb': 234}\n"
          ]
        }
      ],
      "source": [
        "x = [1,23,4,]\n",
        "y = {\"vbb\":234}\n",
        "func(*x,**y)"
      ]
    },
    {
      "cell_type": "markdown",
      "metadata": {
        "id": "oGflug1aG1UJ"
      },
      "source": [
        "### Context manager\n",
        "\n",
        "A context manager is an object that responds to a `with` statement. It may returns something. The basic idea is that some action is performed when entering a context and again when exiting it.\n",
        "\n",
        "```\n",
        "with context as var:\n",
        "    # do something\n",
        "```\n",
        "translates to\n",
        "```\n",
        "# execute context entering code\n",
        "var = return_from_context_entering_code\n",
        "# do something\n",
        "# execute context leaving code\n",
        "```\n",
        "\n",
        "The great advantage here is that the \"leaving code\" is automatically executed whenever we step out of the context!\n",
        "\n",
        "This proved to be incredibly useful when operations have cleanup code that we need to execute yet that is tedious to write manually and can be forgotten."
      ]
    },
    {
      "cell_type": "code",
      "execution_count": 87,
      "metadata": {
        "id": "EvKUl_AVGxWA"
      },
      "outputs": [],
      "source": [
        "with open('some_file', 'w') as opened_file:\n",
        "    opened_file.write('Hola!')"
      ]
    },
    {
      "cell_type": "markdown",
      "metadata": {
        "id": "TdTZgw1FJ2W6"
      },
      "source": [
        "\n",
        "### Using `yield`\n",
        "\n",
        "_What is `yield`?_: It's like a return, except that the executioin stops at the `yield`, let's other code execute and, at some point, **continues** again where the yield was. Examples are:\n",
        "- iterator: a function that yields elements. Everytime it is called, it is supposed to yield an element and then continue from there\n",
        "- asynchronous programing: it stops and waits until something else is finished"
      ]
    },
    {
      "cell_type": "code",
      "execution_count": 88,
      "metadata": {
        "id": "jwn_OpjwHcdp"
      },
      "outputs": [],
      "source": [
        "def infinite_sequence():\n",
        "    num = 0\n",
        "    while True:\n",
        "        yield num\n",
        "        num += 1"
      ]
    },
    {
      "cell_type": "code",
      "execution_count": 89,
      "metadata": {
        "id": "GVu56OtBJN6E"
      },
      "outputs": [],
      "source": [
        "gen = infinite_sequence()"
      ]
    },
    {
      "cell_type": "code",
      "execution_count": 91,
      "metadata": {
        "colab": {
          "base_uri": "https://localhost:8080/"
        },
        "id": "5Yt_IMDlJPOK",
        "outputId": "b701b582-ffbd-496e-c4b1-e68d271fe18b"
      },
      "outputs": [
        {
          "data": {
            "text/plain": [
              "1"
            ]
          },
          "execution_count": 91,
          "metadata": {},
          "output_type": "execute_result"
        }
      ],
      "source": [
        "next(gen)"
      ]
    },
    {
      "cell_type": "code",
      "execution_count": 95,
      "metadata": {
        "colab": {
          "base_uri": "https://localhost:8080/"
        },
        "id": "7x2-u2zrJP4a",
        "outputId": "fda9b9e9-3560-480c-e09e-09d816ba079b"
      },
      "outputs": [
        {
          "data": {
            "text/plain": [
              "5"
            ]
          },
          "execution_count": 95,
          "metadata": {},
          "output_type": "execute_result"
        }
      ],
      "source": [
        "next(gen)"
      ]
    },
    {
      "cell_type": "markdown",
      "metadata": {
        "id": "rKNOQZibKG_d"
      },
      "source": [
        "### Using decorators"
      ]
    },
    {
      "cell_type": "code",
      "execution_count": 96,
      "metadata": {
        "colab": {
          "base_uri": "https://localhost:8080/"
        },
        "id": "RRyXdAcOJQ6S",
        "outputId": "08b3811f-afe4-40bc-fee6-4b272dead230"
      },
      "outputs": [
        {
          "data": {
            "text/plain": [
              "3"
            ]
          },
          "execution_count": 96,
          "metadata": {},
          "output_type": "execute_result"
        }
      ],
      "source": [
        "def add_one(number):\n",
        "  return number + 1\n",
        "\n",
        "add_one(2)"
      ]
    },
    {
      "cell_type": "markdown",
      "metadata": {
        "id": "5jPRzw-kKVF3"
      },
      "source": [
        "In Python, functions are first-class objects. It  can be passed around and used as arguments.\n",
        "\n",
        "Inner functions:"
      ]
    },
    {
      "cell_type": "code",
      "execution_count": 97,
      "metadata": {
        "colab": {
          "base_uri": "https://localhost:8080/"
        },
        "id": "gXKxhH8kKQ_f",
        "outputId": "f838ba3f-5dfa-4a26-975c-d7f46a86493f"
      },
      "outputs": [
        {
          "name": "stdout",
          "output_type": "stream",
          "text": [
            "Hello\n"
          ]
        },
        {
          "data": {
            "text/plain": [
              "3"
            ]
          },
          "execution_count": 97,
          "metadata": {},
          "output_type": "execute_result"
        }
      ],
      "source": [
        "def add_one(number):\n",
        "  def do_smt():\n",
        "    print(\"Hello\")\n",
        "  do_smt()\n",
        "  return number + 1\n",
        "\n",
        "add_one(2)"
      ]
    },
    {
      "cell_type": "code",
      "execution_count": 98,
      "metadata": {
        "colab": {
          "base_uri": "https://localhost:8080/"
        },
        "id": "MH8TYqA4KoFe",
        "outputId": "6d6a452d-9ccb-4788-9b82-5d91b7eda9e6"
      },
      "outputs": [
        {
          "name": "stdout",
          "output_type": "stream",
          "text": [
            "Hello\n"
          ]
        }
      ],
      "source": [
        "def add_one(number):\n",
        "  def do_smt():\n",
        "    print(\"Hello\")\n",
        "  def do_smt_diff():\n",
        "    print(\"OK\")\n",
        "  if(number == 2):\n",
        "    return do_smt()\n",
        "  else:\n",
        "    return do_smt_diff()\n",
        "add_one(2)"
      ]
    },
    {
      "cell_type": "markdown",
      "metadata": {
        "id": "2KjcJ-UjMRJr"
      },
      "source": [
        "Moving on to decorators: \n",
        "\n",
        "Decorators wrapped a function, and modified its behavior."
      ]
    },
    {
      "cell_type": "code",
      "execution_count": 99,
      "metadata": {
        "id": "_-TMyQ00LPHc"
      },
      "outputs": [],
      "source": [
        "def my_decorator(func):\n",
        "    def wrapper():\n",
        "        print(\"Hi\")\n",
        "        func()\n",
        "        print(\"Hello\")\n",
        "    return wrapper\n",
        "\n",
        "def say_potato():\n",
        "    print(\"Potato!\")\n"
      ]
    },
    {
      "cell_type": "code",
      "execution_count": 100,
      "metadata": {
        "colab": {
          "base_uri": "https://localhost:8080/"
        },
        "id": "tSOgXCL3Ls6P",
        "outputId": "730b211b-f4e1-4ffb-9d1b-19c8b3a363ee"
      },
      "outputs": [
        {
          "name": "stdout",
          "output_type": "stream",
          "text": [
            "Potato!\n"
          ]
        }
      ],
      "source": [
        "say_potato()\n"
      ]
    },
    {
      "cell_type": "code",
      "execution_count": 101,
      "metadata": {
        "colab": {
          "base_uri": "https://localhost:8080/"
        },
        "id": "24CMiz5dLdS8",
        "outputId": "9c16fe9d-3a96-489a-de54-23950a78873c"
      },
      "outputs": [
        {
          "name": "stdout",
          "output_type": "stream",
          "text": [
            "Hi\n",
            "Potato!\n",
            "Hello\n"
          ]
        }
      ],
      "source": [
        "say_potato = my_decorator(say_potato)\n",
        "say_potato()\n"
      ]
    },
    {
      "cell_type": "markdown",
      "metadata": {
        "id": "_kESrBgQLwt5"
      },
      "source": [
        "What's happened?\n"
      ]
    },
    {
      "cell_type": "markdown",
      "metadata": {
        "id": "-OLjNCsBL_HA"
      },
      "source": [
        "### Ex. 5\n",
        "\n",
        "Create function which will increase input number on demand using `yield`. Then wrapped this function and add additional functionality.\n",
        "\n"
      ]
    },
    {
      "cell_type": "code",
      "execution_count": 1,
      "metadata": {
        "id": "Jh4y7kbHLilb"
      },
      "outputs": [],
      "source": [
        "def howler(func):\n",
        "  def wrapper(*args, **kwargs):\n",
        "    ret = func(args, kwargs)\n",
        "    if ret%2 == 0:\n",
        "      print(\"even\")\n",
        "    else:\n",
        "      print(\"odd\")\n",
        "  return wrapper\n",
        "\n",
        "def foo(inputNum):\n",
        "  while True:\n",
        "    inputNum += 1\n",
        "    yield inputNum"
      ]
    },
    {
      "cell_type": "code",
      "execution_count": 12,
      "metadata": {
        "colab": {
          "base_uri": "https://localhost:8080/"
        },
        "id": "e_LMDiDSjo06",
        "outputId": "36f61b21-1d16-4634-ded1-8cda00241d8a"
      },
      "outputs": [
        {
          "data": {
            "text/plain": [
              "11"
            ]
          },
          "execution_count": 12,
          "metadata": {},
          "output_type": "execute_result"
        }
      ],
      "source": [
        "gen = foo(10)\n",
        "next(gen)"
      ]
    },
    {
      "cell_type": "code",
      "execution_count": 11,
      "metadata": {},
      "outputs": [
        {
          "data": {
            "text/plain": [
              "14"
            ]
          },
          "execution_count": 11,
          "metadata": {},
          "output_type": "execute_result"
        }
      ],
      "source": [
        "next(gen)"
      ]
    }
  ],
  "metadata": {
    "colab": {
      "collapsed_sections": [],
      "provenance": [],
      "toc_visible": true
    },
    "kernelspec": {
      "display_name": "Python 3.9.2 64-bit",
      "language": "python",
      "name": "python3"
    },
    "language_info": {
      "codemirror_mode": {
        "name": "ipython",
        "version": 3
      },
      "file_extension": ".py",
      "mimetype": "text/x-python",
      "name": "python",
      "nbconvert_exporter": "python",
      "pygments_lexer": "ipython3",
      "version": "3.9.2"
    },
    "vscode": {
      "interpreter": {
        "hash": "31f2aee4e71d21fbe5cf8b01ff0e069b9275f58929596ceb00d14d90e3e16cd6"
      }
    }
  },
  "nbformat": 4,
  "nbformat_minor": 0
}
