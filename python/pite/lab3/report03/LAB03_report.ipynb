{
 "cells": [
  {
   "cell_type": "markdown",
   "metadata": {},
   "source": [
    "# 1. Modules and packages.\n",
    "Module is simply a .py file. It can contain multiple classes, functions, objects etc. Package can be describe as a directory containing a number of modules. It is vital to divide your project into modules and packages to keep everything neat and organized."
   ]
  },
  {
   "cell_type": "code",
   "execution_count": 2,
   "metadata": {},
   "outputs": [
    {
     "name": "stdout",
     "output_type": "stream",
     "text": [
      "Hello from testpackage\n"
     ]
    }
   ],
   "source": [
    "import testpackage"
   ]
  },
  {
   "cell_type": "code",
   "execution_count": 3,
   "metadata": {},
   "outputs": [
    {
     "data": {
      "text/plain": [
       "60"
      ]
     },
     "execution_count": 3,
     "metadata": {},
     "output_type": "execute_result"
    }
   ],
   "source": [
    "from testpackage import test\n",
    "test.test_sum(4,2,54)"
   ]
  },
  {
   "cell_type": "markdown",
   "metadata": {},
   "source": [
    "But the above package is only avilable from our project directory. To prepare the \"testpackage\" for distribution it is recommended to create setup.py file\n",
    "and then install one using pip. After installing the package it will be availible for importing anywhere.\n"
   ]
  },
  {
   "cell_type": "code",
   "execution_count": null,
   "metadata": {},
   "outputs": [],
   "source": [
    "# ex. of setup.py file with a requirements.txt containing required modules\n",
    "\n",
    "import setuptools\n",
    "\n",
    "with open(\"requirements.txt\", \"r\") as req_file:\n",
    "   requirements = req_file.readlines()\n",
    "\n",
    "setuptools.setup(\n",
    "    name = \"testpackage\",\n",
    "    version = \"1.0\",\n",
    "    author = \"<Szymon Kolanko>\",\n",
    "    author_email = \"skolanko@student.agh.edu.pl\",\n",
    "    description = \"Example package structure\",\n",
    "    packages = setuptools.find_packages(),\n",
    "    install_requires = [req for req in requirements if req[:2] != \"# \"]\n",
    ")"
   ]
  },
  {
   "cell_type": "markdown",
   "metadata": {},
   "source": [
    "# 2. Object Oriented Programing in Python\n",
    "\n",
    "Object oriented programing paradigmat provides a way to structure your program into individual classes of objects. Classes can posess functions (caled methods) that can be executed on a insance. We can create instances of a class by simply calling the class name. "
   ]
  },
  {
   "cell_type": "code",
   "execution_count": 4,
   "metadata": {},
   "outputs": [
    {
     "data": {
      "text/plain": [
       "'Jan'"
      ]
     },
     "execution_count": 4,
     "metadata": {},
     "output_type": "execute_result"
    }
   ],
   "source": [
    "class Person:\n",
    "    def __init__(self, name, surname, number):\n",
    "        self.name = name\n",
    "        self.surname = surname\n",
    "        self.number = number\n",
    "\n",
    "pal = Person('Jan','Nowak',2137)\n",
    "\n",
    "pal.name"
   ]
  },
  {
   "cell_type": "markdown",
   "metadata": {},
   "source": [
    "It's also possible that a class can inherit from another class. To call a inherated methode we can use super() function:"
   ]
  },
  {
   "cell_type": "code",
   "execution_count": 9,
   "metadata": {},
   "outputs": [
    {
     "name": "stdout",
     "output_type": "stream",
     "text": [
      "42819307: Kowalski, Jan, 1kowalski\n",
      "getting email of Jan... (generating)\n",
      "jan42819307@fis.agh.edu.pl\n",
      "changing email of Jan...\n",
      "getting email of Jan... \n",
      "janekow@fis.agh.edu.pl\n",
      "getting email of Jan... \n",
      "janekow@fis.agh.edu.pl\n"
     ]
    }
   ],
   "source": [
    "# ex. of inheritace\n",
    "\n",
    "class Student(Person):\n",
    "    UNDERGRADUATE, POSTGRADUATE = range(2)\n",
    "\n",
    "    def __init__(self, student_type, name, surname, number):\n",
    "        super().__init__(name, surname, number) # calling Person's __init__ methode\n",
    "        self.student_type = student_type\n",
    "\n",
    "class WFiIS_Student(Student):\n",
    "    def __init__(self,taurus_username,taurus_password,student_type,name,surname,number):\n",
    "        super().__init__(student_type, name, surname, number)\n",
    "        self.taurus_username = taurus_username\n",
    "        self.taurus_password = taurus_password\n",
    "        self.__email = ''\n",
    "        \n",
    "    def __str__(self):\n",
    "        return f'{self.number}: {self.surname}, {self.name}, {self.taurus_username}'\n",
    "\n",
    "    @property\n",
    "    def email(self):\n",
    "        print(f\"getting email of {self.name}...\",end = ' ')\n",
    "        if self.__email == '':\n",
    "            print(\"(generating)\")\n",
    "            return self.name.lower() + self.number + '@fis.agh.edu.pl'\n",
    "        else:\n",
    "            print('')\n",
    "            return self.__email\n",
    "\n",
    "    @email.setter\n",
    "    def email(self, bgn):\n",
    "        print(f'changing email of {self.name}...')\n",
    "        self.__email = bgn  + '@fis.agh.edu.pl'\n",
    "\n",
    "    \n",
    "\n",
    "student = WFiIS_Student('1kowalski','123456',WFiIS_Student.UNDERGRADUATE,'Jan','Kowalski','42819307')\n",
    "print(student)\n",
    "\n",
    "email = student.email\n",
    "print(email)\n",
    "\n",
    "student.email = \"janekow\"\n",
    "print(student.email)\n",
    "\n",
    "print(student.email)"
   ]
  },
  {
   "cell_type": "markdown",
   "metadata": {},
   "source": [
    "In the code above I have also covered examples of:\n",
    "- magic methods: __str__ and __init__\n",
    "- decorators: @property\n",
    "\n",
    "__str__ method is always called when we need to 'translate' instance of a class to string\n",
    "\n",
    "__init__ method is basicly a generator of a class, called every time we want to create new instance\n",
    "\n",
    "The @property decorator is used to define the property 'email' in the class WFiIS_Student effortlessly with no need of calling property() function. This approach basicly gives us more room to play while setting, getting and deleting a property of a given class."
   ]
  }
 ],
 "metadata": {
  "kernelspec": {
   "display_name": "Python 3",
   "language": "python",
   "name": "python3"
  },
  "language_info": {
   "codemirror_mode": {
    "name": "ipython",
    "version": 3
   },
   "file_extension": ".py",
   "mimetype": "text/x-python",
   "name": "python",
   "nbconvert_exporter": "python",
   "pygments_lexer": "ipython3",
   "version": "3.9.2"
  },
  "vscode": {
   "interpreter": {
    "hash": "31f2aee4e71d21fbe5cf8b01ff0e069b9275f58929596ceb00d14d90e3e16cd6"
   }
  }
 },
 "nbformat": 4,
 "nbformat_minor": 4
}
