{
 "cells": [
  {
   "cell_type": "code",
   "execution_count": 12,
   "metadata": {},
   "outputs": [
    {
     "ename": "TypeError",
     "evalue": "is_regular() takes 1 positional argument but 2 were given",
     "output_type": "error",
     "traceback": [
      "\u001b[0;31m---------------------------------------------------------------------------\u001b[0m",
      "\u001b[0;31mTypeError\u001b[0m                                 Traceback (most recent call last)",
      "Cell \u001b[0;32mIn[12], line 38\u001b[0m\n\u001b[1;32m     35\u001b[0m n_value \u001b[38;5;241m=\u001b[39m \u001b[38;5;241m6\u001b[39m  \u001b[38;5;66;03m# Ilość wierzchołków\u001b[39;00m\n\u001b[1;32m     36\u001b[0m k_value \u001b[38;5;241m=\u001b[39m \u001b[38;5;241m2\u001b[39m  \u001b[38;5;66;03m# Stopień\u001b[39;00m\n\u001b[0;32m---> 38\u001b[0m generated_graph \u001b[38;5;241m=\u001b[39m \u001b[43mgenerate_k_regular_graph\u001b[49m\u001b[43m(\u001b[49m\u001b[43mn_value\u001b[49m\u001b[43m,\u001b[49m\u001b[43m \u001b[49m\u001b[43mk_value\u001b[49m\u001b[43m)\u001b[49m\n\u001b[1;32m     40\u001b[0m \u001b[38;5;66;03m# Wyświetlenie informacji o grafie\u001b[39;00m\n\u001b[1;32m     41\u001b[0m \u001b[38;5;28;01mif\u001b[39;00m generated_graph:\n",
      "Cell \u001b[0;32mIn[12], line 20\u001b[0m, in \u001b[0;36mgenerate_k_regular_graph\u001b[0;34m(n, k)\u001b[0m\n\u001b[1;32m     17\u001b[0m vertices \u001b[38;5;241m=\u001b[39m \u001b[38;5;28mlist\u001b[39m(graph\u001b[38;5;241m.\u001b[39mnodes())\n\u001b[1;32m     19\u001b[0m \u001b[38;5;66;03m# Pętla do dodawania krawędzi, aby uzyskać graf k-regularny\u001b[39;00m\n\u001b[0;32m---> 20\u001b[0m \u001b[38;5;28;01mwhile\u001b[39;00m \u001b[38;5;129;01mnot\u001b[39;00m \u001b[43mnx\u001b[49m\u001b[38;5;241;43m.\u001b[39;49m\u001b[43mis_regular\u001b[49m\u001b[43m(\u001b[49m\u001b[43mgraph\u001b[49m\u001b[43m,\u001b[49m\u001b[43m \u001b[49m\u001b[43mk\u001b[49m\u001b[43m)\u001b[49m:\n\u001b[1;32m     21\u001b[0m     random\u001b[38;5;241m.\u001b[39mshuffle(vertices)\n\u001b[1;32m     22\u001b[0m     \u001b[38;5;28;01mfor\u001b[39;00m i \u001b[38;5;129;01min\u001b[39;00m \u001b[38;5;28mrange\u001b[39m(n):\n",
      "File \u001b[0;32m~/.local/lib/python3.10/site-packages/networkx/utils/backends.py:412\u001b[0m, in \u001b[0;36m_dispatch.__call__\u001b[0;34m(self, backend, *args, **kwargs)\u001b[0m\n\u001b[1;32m    409\u001b[0m \u001b[38;5;28;01mdef\u001b[39;00m \u001b[38;5;21m__call__\u001b[39m(\u001b[38;5;28mself\u001b[39m, \u001b[38;5;241m/\u001b[39m, \u001b[38;5;241m*\u001b[39margs, backend\u001b[38;5;241m=\u001b[39m\u001b[38;5;28;01mNone\u001b[39;00m, \u001b[38;5;241m*\u001b[39m\u001b[38;5;241m*\u001b[39mkwargs):\n\u001b[1;32m    410\u001b[0m     \u001b[38;5;28;01mif\u001b[39;00m \u001b[38;5;129;01mnot\u001b[39;00m backends:\n\u001b[1;32m    411\u001b[0m         \u001b[38;5;66;03m# Fast path if no backends are installed\u001b[39;00m\n\u001b[0;32m--> 412\u001b[0m         \u001b[38;5;28;01mreturn\u001b[39;00m \u001b[38;5;28;43mself\u001b[39;49m\u001b[38;5;241;43m.\u001b[39;49m\u001b[43morig_func\u001b[49m\u001b[43m(\u001b[49m\u001b[38;5;241;43m*\u001b[39;49m\u001b[43margs\u001b[49m\u001b[43m,\u001b[49m\u001b[43m \u001b[49m\u001b[38;5;241;43m*\u001b[39;49m\u001b[38;5;241;43m*\u001b[39;49m\u001b[43mkwargs\u001b[49m\u001b[43m)\u001b[49m\n\u001b[1;32m    414\u001b[0m     \u001b[38;5;66;03m# Use `backend_name` in this function instead of `backend`\u001b[39;00m\n\u001b[1;32m    415\u001b[0m     backend_name \u001b[38;5;241m=\u001b[39m backend\n",
      "\u001b[0;31mTypeError\u001b[0m: is_regular() takes 1 positional argument but 2 were given"
     ]
    }
   ],
   "source": [
    "import networkx as nx\n",
    "import random\n",
    "\n",
    "def generate_k_regular_graph(n, k):\n",
    "    # Sprawdzenie, czy n * k jest parzyste\n",
    "    if n * k % 2 != 0:\n",
    "        print(\"Nieprawidłowe parametry. Upewnij się, że n * k jest liczbą parzystą.\")\n",
    "        return None\n",
    "\n",
    "    # Utworzenie pustego grafu\n",
    "    graph = nx.Graph()\n",
    "\n",
    "    # Dodanie wierzchołków do grafu\n",
    "    graph.add_nodes_from(range(1, n + 1))\n",
    "\n",
    "    # Utworzenie listy wierzchołków\n",
    "    vertices = list(graph.nodes())\n",
    "\n",
    "    # Pętla do dodawania krawędzi, aby uzyskać graf k-regularny\n",
    "    while not nx.is_regular(graph, k):\n",
    "        random.shuffle(vertices)\n",
    "        for i in range(n):\n",
    "            current_vertex = vertices[i]\n",
    "            neighbors = list(graph.neighbors(current_vertex))\n",
    "            available_vertices = [v for v in vertices if v != current_vertex and v not in neighbors]\n",
    "\n",
    "            # Wybór losowego sąsiada i dodanie krawędzi\n",
    "            if available_vertices:\n",
    "                random_neighbor = random.choice(available_vertices)\n",
    "                graph.add_edge(current_vertex, random_neighbor)\n",
    "\n",
    "    return graph\n",
    "\n",
    "# Przykład użycia\n",
    "n_value = 6  # Ilość wierzchołków\n",
    "k_value = 2  # Stopień\n",
    "\n",
    "generated_graph = generate_k_regular_graph(n_value, k_value)\n",
    "\n",
    "# Wyświetlenie informacji o grafie\n",
    "if generated_graph:\n",
    "    print(\"Wygenerowany graf k-regularny:\")\n",
    "    print(\"Wierzchołki:\", generated_graph.nodes())\n",
    "    print(\"Krawędzie:\", generated_graph.edges())\n",
    "    nx.draw(generated_graph, with_labels=True)"
   ]
  }
 ],
 "metadata": {
  "kernelspec": {
   "display_name": "Python 3",
   "language": "python",
   "name": "python3"
  },
  "language_info": {
   "codemirror_mode": {
    "name": "ipython",
    "version": 3
   },
   "file_extension": ".py",
   "mimetype": "text/x-python",
   "name": "python",
   "nbconvert_exporter": "python",
   "pygments_lexer": "ipython3",
   "version": "3.10.12"
  }
 },
 "nbformat": 4,
 "nbformat_minor": 2
}
