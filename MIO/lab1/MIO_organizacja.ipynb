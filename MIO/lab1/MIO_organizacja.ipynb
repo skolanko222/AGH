{
  "nbformat": 4,
  "nbformat_minor": 0,
  "metadata": {
    "colab": {
      "provenance": []
    },
    "kernelspec": {
      "name": "python3",
      "display_name": "Python 3"
    },
    "language_info": {
      "name": "python"
    }
  },
  "cells": [
    {
      "cell_type": "markdown",
      "source": [
        "\n",
        "*Wydział Fizyki i Informatyki Stosowanej AGH, 26.02.2024*\n",
        "\n",
        "## Organizacja zajęć laboratoryjnych\n",
        "\n",
        "**Prowadzący**\n",
        "\n",
        "Dr hab. inż. Szymon Łukasik , prof. AGH [slukasik@agh.edu.pl], dr hab. inż. Piotr Kowalski, prof. AGH [pkowal@agh.edu.pl], mgr Karolina Wadowska [wadowska@agh.edu.pl], mgr inż. Maciej Trzciński [mtrzcins@agh.edu.pl]\n",
        "\n",
        "\n",
        "**Plan zajęć laboratoryjnych**\n",
        "\n",
        "Temat 1-4: Sztuczne sieci neuronowe\n",
        "Temat 5-6: Logika rozmyta – najpierw proste problemy a potem modelowanie\n",
        "Temat 7-8: Algorytmy genetyczne i ewolucyjne oraz algorytmy rojowe.\n",
        "\n",
        "Laboratoria prowadzone będą przy użyciu narzędzia Google Colab i języka python, jednak nie są Państwo ograniczeni w wyborze narzędzi, pod warunkiem, że będą Państwo realizować przedstawiane zadania.\n",
        "\n",
        "**Zasady oceniania**\n",
        "\n",
        "*Zasady dotyczące obecności na laboratoriach*\n",
        "\n",
        "Obecność na laboratoriach jest obowiązkowa. Dopuszczalna jest jedna nieobecność na zajęciach laboratoryjnych. Zajęcia można odrobić – w miarę dostępności miejsc – w innej grupie laboratoryjnej. Student zobligowany jest w najkrótszym możliwym terminie zgłosić się do prowadzącego zajęcia w celu ustalenia terminu odrobienia zajęć\n",
        "\n",
        "W przypadku niemożliwości odrobienia zajęć lub większej liczby nieobecności istnieje możliwość uzupełnienia nieobecności w formie indywidualnego zadania domowego.\n",
        "\n",
        "Student który bez usprawiedliwienia opuścił więcej niż 50% zajęć i jego cząstkowe wyniki w nauce były negatywne może zostać pozbawiony przez prowadzącego zajęcia możliwości wyrównania zaległości. Od takiej decyzji prowadzącego zajęcia student może się odwołać do prowadzącego przedmiot i/lub Dziekana.\n",
        "\n",
        "*Zasady dotyczące oceny na laboratoriach*\n",
        "\n",
        "Po zajęciach laboratoryjnych (poza ostatnimi) do wykonania będą sprawozdania, wymagające zrobienia i skomentowania zadań z tych laboratoriów. Brak dokończenia zadań podczas zajęć nie wiąże się z konsekwencjami - po prostu mają wtedy Państwo do zrobienia więcej samodzielnie. Razem z kodem sprawozdania należy dosłać na odpowiedniej grupie na MS Teams najpóźniej do rozpoczęcia następnych laboratoriów. Za każde sprawozdanie można otrzymać maksymalnie 1 punkt.\n",
        "\n",
        "Na ostatnich zajęciach laboratoryjnych odbędzie się kolokwium, w którym można zdobyć 12 punktów. Z 20 punktów do zdobycia na laboratoriach (8 za sprawozdania i 12 za kolokwium) zostanie przyznana ocena zgodnie z regulaminem studiów, która stanowić będzie 2/3 oceny za przedmiot.\n",
        "\n",
        "**Projekt i ocena końcowa**\n",
        "\n",
        "Po zakończeniu zajęć laboratoryjnych realizacja projektów związanych z tematyką ćwiczeń. Projekt w formie konsultacji.\n",
        "\n",
        "Ocena końcowa to średnia ważona z laboratoriów (waga 2/3) oraz projektów zespołowych obejmującego samodzielne rozwiązanie wybranego problemu inżynierskiego z użyciem metod sztucznej inteligencji (waga 1/3).\n",
        "\n",
        "**Konsultacje**\n",
        "\n",
        "Po uzgodnieniu mailowym lub przez MS Teams.\n",
        "\n",
        "**Materiały uzupełniające**\n",
        "\n",
        "Znajdziecie Państwo na kanale kursu na MS Teams."
      ],
      "metadata": {
        "id": "XDLOQ_kBtThi"
      }
    },
    {
      "cell_type": "markdown",
      "source": [
        "## Używanie google colab\n",
        "\n",
        "Zachęcamy do korzystania w ramach zajęć z google colab, który poza bardzo łatwym dostępem do wszystkich potrzebnych nam modułów pythona umożliwia też m.in. wykorzystywanie w kart graficznych do obliczeń (po zaledwie kilku kliknięciach).\n",
        "\n",
        "Można oczywiście korzystać też ze swoich własnych laptopów lub środowiska python dostępnego w ramach komputerów uczelnianych."
      ],
      "metadata": {
        "id": "gFGI7K3NigbG"
      }
    },
    {
      "cell_type": "markdown",
      "source": [
        "## Przydatne narzędzia\n",
        "\n",
        "Scikit Learn, narzędzia do analizy danych i uczenia maszynowego w języku python: https://scikit-learn.org/\n",
        "\n",
        "Pytorch, duży i popularny framework do budowania zaawansowanych sieci neuronowych w języku python: https://pytorch.org/, https://pytorch.org/tutorials/beginner/basics/intro.html\n",
        "\n",
        "Keras, duży i popularny framework do budowania zaawansowanych sieci neuronowych w języku python: https://keras.io/, https://keras.io/examples/\n",
        "\n",
        "Repozytoria zbiorów danych do wykorzystania w uczeniu maszynowym: https://archive.ics.uci.edu/ml/index.php, https://huggingface.co/datasets\n",
        "\n",
        "Bardzo wygodne narzędzie do rysowania wykresów: https://matplotlib.org/stable/tutorials/index.html\n"
      ],
      "metadata": {
        "id": "WwaD8gvnzouC"
      }
    }
  ]
}